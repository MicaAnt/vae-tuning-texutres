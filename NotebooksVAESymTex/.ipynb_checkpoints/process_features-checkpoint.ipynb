{
 "cells": [
  {
   "cell_type": "code",
   "execution_count": null,
   "metadata": {},
   "outputs": [],
   "source": [
    "import sys\n",
    "sys.path.append('./base_model')\n",
    "from interface import PolyDisVAE\n",
    "import torch, os, numpy as np\n"
   ]
  },
  {
   "cell_type": "code",
   "execution_count": null,
   "metadata": {},
   "outputs": [],
   "source": [
    "# initialize the VAE model\n",
    "polydis_model = PolyDisVAE.init_model()\n",
    "polydis_model.load_model('./model_param/polydis-v1.pt')\n",
    "device = torch.device('cuda' if torch.cuda.is_available() else 'cpu')\n"
   ]
  },
  {
   "cell_type": "code",
   "execution_count": null,
   "metadata": {},
   "outputs": [],
   "source": [
    "# prepare feature files and output location\n",
    "from glob import glob\n",
    "feature_dir = './features'\n",
    "latent_dir = './latent_features'\n",
    "os.makedirs(latent_dir, exist_ok=True)\n",
    "feature_files = sorted(glob(os.path.join(feature_dir, '*.npz')))\n",
    "len(feature_files)"
   ]
  },
  {
   "cell_type": "code",
   "execution_count": null,
   "metadata": {},
   "outputs": [],
   "source": [
    "def encode_block(files):\n",
    "    z_chds = []\n",
    "    z_txts = []\n",
    "    for path in files:\n",
    "        with np.load(path) as feat:\n",
    "            pr = feat['piano_roll']\n",
    "            chd = feat['chord']\n",
    "        c = torch.from_numpy(chd).float().to(device).unsqueeze(0)\n",
    "        pr = torch.from_numpy(pr).float().to(device).unsqueeze(0)\n",
    "        z_chd = polydis_model.chd_encode(c)\n",
    "        z_txt = polydis_model.txt_encode(pr)\n",
    "        z_chds.append(z_chd.cpu().numpy())\n",
    "        z_txts.append(z_txt.cpu().numpy())\n",
    "    return np.concatenate(z_chds), np.concatenate(z_txts)\n"
   ]
  },
  {
   "cell_type": "code",
   "execution_count": null,
   "metadata": {},
   "outputs": [],
   "source": [
    "# process files in blocks and store latent codes\n",
    "block_size = 100\n",
    "for start in range(0, len(feature_files), block_size):\n",
    "    block = feature_files[start:start + block_size]\n",
    "    z_chd, z_txt = encode_block(block)\n",
    "    out_path = os.path.join(latent_dir, f'latents_{start//block_size:03d}.npz')\n",
    "    np.savez(out_path, z_chd=z_chd, z_txt=z_txt, files=block)\n",
    "    print(f'processed {start + len(block)} / {len(feature_files)} files')\n"
   ]
  },
  {
   "cell_type": "code",
   "execution_count": null,
   "metadata": {},
   "outputs": [],
   "source": [
    "# example of reading saved latent representations later\n",
    "latent = np.load(os.path.join(latent_dir, 'latents_000.npz'))\n",
    "z_chd = latent['z_chd']\n",
    "z_txt = latent['z_txt']\n",
    "file_names = latent['files']\n",
    "print(z_chd.shape, z_txt.shape)\n"
   ]
  }
 ],
 "metadata": {
  "kernelspec": {
   "display_name": "Python 3 (ipykernel)",
   "language": "python",
   "name": "python3"
  },
  "language_info": {
   "codemirror_mode": {
    "name": "ipython",
    "version": 3
   },
   "file_extension": ".py",
   "mimetype": "text/x-python",
   "name": "python",
   "nbconvert_exporter": "python",
   "pygments_lexer": "ipython3",
   "version": "3.11.11"
  }
 },
 "nbformat": 4,
 "nbformat_minor": 5
}
