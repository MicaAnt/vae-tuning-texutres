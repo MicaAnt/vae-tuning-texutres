{
 "cells": [
  {
   "cell_type": "code",
   "execution_count": null,
   "id": "3bbc3283",
   "metadata": {},
   "outputs": [],
   "source": [
    "import torch\n",
    "from dataset import prepare_dataset\n",
    "from model import DisentangleVAE\n",
    "from ptvae import RnnEncoder, PtvaeEncoder, PtvaeDecoder, RnnDecoder\n",
    "import matplotlib.pyplot as plt\n",
    "import numpy as np\n"
   ]
  },
  {
   "cell_type": "code",
   "execution_count": null,
   "id": "f3529e78",
   "metadata": {},
   "outputs": [],
   "source": [
    "device = torch.device('cuda' if torch.cuda.is_available() else 'cpu')\n",
    "\n",
    "# Criar componentes do modelo (ajustar se necessário)\n",
    "chd_encoder = RnnEncoder(36, 1024, 256)\n",
    "rhy_encoder = PtvaeEncoder(device=device, z_size=256, max_pitch=31, min_pitch=0)\n",
    "chd_decoder = RnnDecoder(z_dim=256)\n",
    "pt_decoder = PtvaeDecoder(note_embedding=None, dec_dur_hid_size=64, z_size=512)\n",
    "\n",
    "model = DisentangleVAE('disvae', device, chd_encoder, rhy_encoder, pt_decoder, chd_decoder)\n",
    "model.load_state_dict(torch.load('model_param/polydis-v1.pt', map_location=device))\n",
    "model.to(device)\n",
    "model.eval()\n"
   ]
  },
  {
   "cell_type": "code",
   "execution_count": null,
   "id": "5e80134f",
   "metadata": {},
   "outputs": [],
   "source": [
    "train_loader, _ = prepare_dataset(seed=123, bs_train=16, bs_val=16,\n",
    "                                  portion=8, shift_low=-6, shift_high=5,\n",
    "                                  num_bar=2, contain_chord=True,\n",
    "                                  random_train=False, random_val=False)\n"
   ]
  },
  {
   "cell_type": "code",
   "execution_count": null,
   "id": "35e07c4f",
   "metadata": {},
   "outputs": [],
   "source": [
    "losses = []\n",
    "kl_chd_list = []\n",
    "kl_rhy_list = []\n",
    "\n",
    "for batch in train_loader:\n",
    "    _, _, pr_mat, x, c, dt_x = batch\n",
    "    x, c, pr_mat, dt_x = x.to(device), c.to(device), pr_mat.to(device), dt_x.to(device)\n",
    "\n",
    "    with torch.no_grad():\n",
    "        pitch_outs, dur_outs, dist_chd, dist_rhy, recon_root, recon_chroma, recon_bass = model.run(\n",
    "            x, c, pr_mat,\n",
    "            tfr1=0.0, tfr2=0.0, tfr3=0.0, confuse=False\n",
    "        )\n",
    "\n",
    "        loss_vals = model.loss_function(\n",
    "            x, c,\n",
    "            pitch_outs, dur_outs,\n",
    "            dist_chd, dist_rhy,\n",
    "            recon_root, recon_chroma, recon_bass,\n",
    "            beta=0.1, weights=[1.0, 0.5]\n",
    "        )\n",
    "\n",
    "        total_loss, _, _, _, _, kl_chd, kl_rhy, *_ = loss_vals\n",
    "\n",
    "        losses.append(total_loss.item())\n",
    "        kl_chd_list.append(kl_chd.item())\n",
    "        kl_rhy_list.append(kl_rhy.item())\n"
   ]
  },
  {
   "cell_type": "code",
   "execution_count": null,
   "id": "b715518a",
   "metadata": {},
   "outputs": [],
   "source": [
    "plt.figure(figsize=(12, 4))\n",
    "plt.subplot(1, 3, 1)\n",
    "plt.plot(losses)\n",
    "plt.title('Total Loss')\n",
    "\n",
    "plt.subplot(1, 3, 2)\n",
    "plt.plot(kl_chd_list)\n",
    "plt.title('KL Divergence - z_chd')\n",
    "\n",
    "plt.subplot(1, 3, 3)\n",
    "plt.plot(kl_rhy_list)\n",
    "plt.title('KL Divergence - z_txt')\n",
    "\n",
    "plt.tight_layout()\n",
    "plt.show()\n"
   ]
  }
 ],
 "metadata": {},
 "nbformat": 4,
 "nbformat_minor": 5
}
