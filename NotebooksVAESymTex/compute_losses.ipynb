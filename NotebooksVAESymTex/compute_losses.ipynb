{
 "cells": [
  {
   "cell_type": "code",
   "execution_count": 12,
   "id": "507ceaaf-6272-4dfc-81ae-c95fc7cd2260",
   "metadata": {},
   "outputs": [],
   "source": [
    "import sys\n",
    "import os\n",
    "import glob"
   ]
  },
  {
   "cell_type": "code",
   "execution_count": 3,
   "id": "6214c308-1174-4f0e-998a-5181e83c6412",
   "metadata": {},
   "outputs": [],
   "source": [
    "# Caminho para os módulos do repositório\n",
    "sys.path.append(os.path.abspath(\".\"))"
   ]
  },
  {
   "cell_type": "code",
   "execution_count": 4,
   "id": "05c58fc8-29bb-4480-9c24-0e7e4bada467",
   "metadata": {},
   "outputs": [],
   "source": [
    "sys.path.append(os.path.abspath(\"base_model\"))"
   ]
  },
  {
   "cell_type": "code",
   "execution_count": 5,
   "id": "3bbc3283",
   "metadata": {},
   "outputs": [],
   "source": [
    "import torch\n",
    "from dataset import prepare_dataset\n",
    "from model import DisentangleVAE\n",
    "from ptvae import RnnEncoder, PtvaeEncoder, PtvaeDecoder, RnnDecoder\n",
    "import matplotlib.pyplot as plt\n",
    "import numpy as np"
   ]
  },
  {
   "cell_type": "code",
   "execution_count": 21,
   "id": "701978a7-e0c5-4f0f-b3ea-eed9fec3b798",
   "metadata": {},
   "outputs": [],
   "source": [
    "from interface import PolyDisVAE"
   ]
  },
  {
   "cell_type": "code",
   "execution_count": 22,
   "id": "cedc0138-9273-4274-a00e-1eb743abfc4a",
   "metadata": {},
   "outputs": [],
   "source": [
    "from dl_modules import ChordEncoder, TextureEncoder, PianoTreeDecoder, ChordDecoder"
   ]
  },
  {
   "cell_type": "code",
   "execution_count": 25,
   "id": "c24af3fa-bd9e-423d-8294-4c8484009081",
   "metadata": {},
   "outputs": [],
   "source": [
    "data = np.load(\"dataSet/POP09-PIANOROLL-4-bin-quantization/001.npz\", allow_pickle=True)"
   ]
  },
  {
   "cell_type": "code",
   "execution_count": 29,
   "id": "79ea08ef-e91c-46f8-8793-17d180830230",
   "metadata": {},
   "outputs": [],
   "source": [
    "def npz_para_pianoroll(caminho_npz, n_bins=4):\n",
    "    \"\"\"Carrega um arquivo .npz e retorna a matriz piano‑roll (time x pitch).\"\"\"\n",
    "    data = np.load(caminho_npz)\n",
    "    notas = data[\"piano\"]            # ou \"melody\", \"bridge\" etc.\n",
    "    max_tick = int(np.ceil(notas[:, 1].max() * n_bins))\n",
    "    roll = np.zeros((max_tick, 128), dtype=np.int32)\n",
    "\n",
    "    for onset, offset, pitch, velocity in notas:\n",
    "        inicio = int(onset * n_bins)\n",
    "        fim = int(offset * n_bins)\n",
    "        roll[inicio:fim, int(pitch)] = velocity\n",
    "\n",
    "    return roll"
   ]
  },
  {
   "cell_type": "code",
   "execution_count": 30,
   "id": "a18490df-f9cc-4cf0-9db4-4040ccd0d447",
   "metadata": {},
   "outputs": [
    {
     "ename": "TypeError",
     "evalue": "expected str, bytes or os.PathLike object, not NpzFile",
     "output_type": "error",
     "traceback": [
      "\u001b[0;31m---------------------------------------------------------------------------\u001b[0m",
      "\u001b[0;31mTypeError\u001b[0m                                 Traceback (most recent call last)",
      "Cell \u001b[0;32mIn[30], line 1\u001b[0m\n\u001b[0;32m----> 1\u001b[0m \u001b[43mnpz_para_pianoroll\u001b[49m\u001b[43m(\u001b[49m\u001b[43mdata\u001b[49m\u001b[43m)\u001b[49m\n",
      "Cell \u001b[0;32mIn[29], line 3\u001b[0m, in \u001b[0;36mnpz_para_pianoroll\u001b[0;34m(caminho_npz, n_bins)\u001b[0m\n\u001b[1;32m      1\u001b[0m \u001b[38;5;28;01mdef\u001b[39;00m\u001b[38;5;250m \u001b[39m\u001b[38;5;21mnpz_para_pianoroll\u001b[39m(caminho_npz, n_bins\u001b[38;5;241m=\u001b[39m\u001b[38;5;241m4\u001b[39m):\n\u001b[1;32m      2\u001b[0m \u001b[38;5;250m    \u001b[39m\u001b[38;5;124;03m\"\"\"Carrega um arquivo .npz e retorna a matriz piano‑roll (time x pitch).\"\"\"\u001b[39;00m\n\u001b[0;32m----> 3\u001b[0m     data \u001b[38;5;241m=\u001b[39m \u001b[43mnp\u001b[49m\u001b[38;5;241;43m.\u001b[39;49m\u001b[43mload\u001b[49m\u001b[43m(\u001b[49m\u001b[43mcaminho_npz\u001b[49m\u001b[43m)\u001b[49m\n\u001b[1;32m      4\u001b[0m     notas \u001b[38;5;241m=\u001b[39m data[\u001b[38;5;124m\"\u001b[39m\u001b[38;5;124mpiano\u001b[39m\u001b[38;5;124m\"\u001b[39m]            \u001b[38;5;66;03m# ou \"melody\", \"bridge\" etc.\u001b[39;00m\n\u001b[1;32m      5\u001b[0m     max_tick \u001b[38;5;241m=\u001b[39m \u001b[38;5;28mint\u001b[39m(np\u001b[38;5;241m.\u001b[39mceil(notas[:, \u001b[38;5;241m1\u001b[39m]\u001b[38;5;241m.\u001b[39mmax() \u001b[38;5;241m*\u001b[39m n_bins))\n",
      "File \u001b[0;32m/usr/local/lib/python3.11/site-packages/numpy/lib/npyio.py:427\u001b[0m, in \u001b[0;36mload\u001b[0;34m(file, mmap_mode, allow_pickle, fix_imports, encoding, max_header_size)\u001b[0m\n\u001b[1;32m    425\u001b[0m     own_fid \u001b[38;5;241m=\u001b[39m \u001b[38;5;28;01mFalse\u001b[39;00m\n\u001b[1;32m    426\u001b[0m \u001b[38;5;28;01melse\u001b[39;00m:\n\u001b[0;32m--> 427\u001b[0m     fid \u001b[38;5;241m=\u001b[39m stack\u001b[38;5;241m.\u001b[39menter_context(\u001b[38;5;28mopen\u001b[39m(\u001b[43mos_fspath\u001b[49m\u001b[43m(\u001b[49m\u001b[43mfile\u001b[49m\u001b[43m)\u001b[49m, \u001b[38;5;124m\"\u001b[39m\u001b[38;5;124mrb\u001b[39m\u001b[38;5;124m\"\u001b[39m))\n\u001b[1;32m    428\u001b[0m     own_fid \u001b[38;5;241m=\u001b[39m \u001b[38;5;28;01mTrue\u001b[39;00m\n\u001b[1;32m    430\u001b[0m \u001b[38;5;66;03m# Code to distinguish from NumPy binary files and pickles.\u001b[39;00m\n",
      "\u001b[0;31mTypeError\u001b[0m: expected str, bytes or os.PathLike object, not NpzFile"
     ]
    }
   ],
   "source": [
    "npz_para_pianoroll(data)"
   ]
  },
  {
   "cell_type": "code",
   "execution_count": null,
   "id": "ad69ee95-2b85-4987-adb8-05b98ff5b332",
   "metadata": {},
   "outputs": [],
   "source": []
  }
 ],
 "metadata": {
  "kernelspec": {
   "display_name": "Python 3 (ipykernel)",
   "language": "python",
   "name": "python3"
  },
  "language_info": {
   "codemirror_mode": {
    "name": "ipython",
    "version": 3
   },
   "file_extension": ".py",
   "mimetype": "text/x-python",
   "name": "python",
   "nbconvert_exporter": "python",
   "pygments_lexer": "ipython3",
   "version": "3.11.11"
  }
 },
 "nbformat": 4,
 "nbformat_minor": 5
}
