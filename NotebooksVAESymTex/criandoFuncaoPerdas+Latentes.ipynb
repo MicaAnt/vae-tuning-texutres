{
 "cells": [
  {
   "cell_type": "code",
   "execution_count": 1,
   "id": "c30e34a9-1c43-45ce-8838-39b42715ce9e",
   "metadata": {},
   "outputs": [],
   "source": [
    "import argparse\n",
    "import sys\n",
    "import torch\n",
    "import numpy as np\n",
    "import os"
   ]
  },
  {
   "cell_type": "code",
   "execution_count": 2,
   "id": "fcba8bee-b8eb-417e-8a4d-703eb5508b3e",
   "metadata": {},
   "outputs": [],
   "source": [
    "sys.path.append('./base_model')\n",
    "device = torch.device('cuda' if torch.cuda.is_available() else 'cpu')"
   ]
  },
  {
   "cell_type": "code",
   "execution_count": 3,
   "id": "bc40589d-90ec-460f-b9f3-b891be7fb71c",
   "metadata": {},
   "outputs": [],
   "source": [
    "from base_model.dataset import wrap_dataset\n",
    "from base_model.model import DisentangleVAE\n",
    "from interface import PolyDisVAE\n",
    "from amc_dl.torch_plus.train_utils import get_zs_from_dists"
   ]
  },
  {
   "cell_type": "code",
   "execution_count": 4,
   "id": "6880b595-cdeb-4579-a583-4bbf3914693d",
   "metadata": {},
   "outputs": [],
   "source": [
    "def load_model(device=device):\n",
    "    interface = PolyDisVAE.init_model(device=device)\n",
    "    interface.load_model('./model_param/polydis-v1.pt')\n",
    "    model = DisentangleVAE('disvae', interface.device,\n",
    "                           interface.chd_encoder,\n",
    "                           interface.txt_encoder,\n",
    "                           interface.pnotree_decoder,\n",
    "                           interface.chd_decoder)\n",
    "    model.eval()\n",
    "    return model"
   ]
  },
  {
   "cell_type": "code",
   "execution_count": 5,
   "id": "344c5153-bfcd-4748-bade-46816fa8f573",
   "metadata": {},
   "outputs": [
    {
     "name": "stderr",
     "output_type": "stream",
     "text": [
      "/workspace/vae-tuning-texutres/interface.py:95: FutureWarning: You are using `torch.load` with `weights_only=False` (the current default value), which uses the default pickle module implicitly. It is possible to construct malicious pickle data which will execute arbitrary code during unpickling (See https://github.com/pytorch/pytorch/blob/main/SECURITY.md#untrusted-models for more details). In a future release, the default value for `weights_only` will be flipped to `True`. This limits the functions that could be executed during unpickling. Arbitrary objects will no longer be allowed to be loaded via this mode unless they are explicitly allowlisted by the user via `torch.serialization.add_safe_globals`. We recommend you start setting `weights_only=True` for any use case where you don't have full control of the loaded file. Please open an issue on GitHub for any issues related to this experimental feature.\n",
      "  dic = torch.load(model_path, map_location=self.device)\n"
     ]
    },
    {
     "data": {
      "text/plain": [
       "DisentangleVAE(\n",
       "  (chd_encoder): ChordEncoder(\n",
       "    (gru): GRU(36, 1024, batch_first=True, bidirectional=True)\n",
       "    (linear_mu): Linear(in_features=2048, out_features=256, bias=True)\n",
       "    (linear_var): Linear(in_features=2048, out_features=256, bias=True)\n",
       "  )\n",
       "  (rhy_encoder): TextureEncoder(\n",
       "    (cnn): Sequential(\n",
       "      (0): Conv2d(1, 10, kernel_size=(4, 12), stride=(4, 1))\n",
       "      (1): ReLU()\n",
       "      (2): MaxPool2d(kernel_size=(1, 4), stride=(1, 4), padding=0, dilation=1, ceil_mode=False)\n",
       "    )\n",
       "    (fc1): Linear(in_features=290, out_features=1000, bias=True)\n",
       "    (fc2): Linear(in_features=1000, out_features=256, bias=True)\n",
       "    (gru): GRU(256, 1024, batch_first=True, bidirectional=True)\n",
       "    (linear_mu): Linear(in_features=2048, out_features=256, bias=True)\n",
       "    (linear_var): Linear(in_features=2048, out_features=256, bias=True)\n",
       "  )\n",
       "  (decoder): PianoTreeDecoder(\n",
       "    (note_embedding): Linear(in_features=135, out_features=128, bias=True)\n",
       "    (z2dec_hid_linear): Linear(in_features=512, out_features=1024, bias=True)\n",
       "    (z2dec_in_linear): Linear(in_features=512, out_features=256, bias=True)\n",
       "    (dec_notes_emb_gru): GRU(128, 128, batch_first=True, bidirectional=True)\n",
       "    (dec_time_gru): GRU(512, 1024, batch_first=True)\n",
       "    (dec_time_to_notes_hid): Linear(in_features=1024, out_features=512, bias=True)\n",
       "    (dec_notes_gru): GRU(1152, 512, batch_first=True)\n",
       "    (pitch_out_linear): Linear(in_features=512, out_features=130, bias=True)\n",
       "    (dec_dur_gru): GRU(5, 64, batch_first=True)\n",
       "    (dur_hid_linear): Linear(in_features=642, out_features=64, bias=True)\n",
       "    (dur_out_linear): Linear(in_features=64, out_features=2, bias=True)\n",
       "  )\n",
       "  (chd_decoder): ChordDecoder(\n",
       "    (z2dec_hid): Linear(in_features=256, out_features=512, bias=True)\n",
       "    (z2dec_in): Linear(in_features=256, out_features=256, bias=True)\n",
       "    (gru): GRU(292, 512, batch_first=True)\n",
       "    (root_out): Linear(in_features=512, out_features=12, bias=True)\n",
       "    (chroma_out): Linear(in_features=512, out_features=24, bias=True)\n",
       "    (bass_out): Linear(in_features=512, out_features=12, bias=True)\n",
       "  )\n",
       ")"
      ]
     },
     "execution_count": 5,
     "metadata": {},
     "output_type": "execute_result"
    }
   ],
   "source": [
    "load_model()"
   ]
  },
  {
   "cell_type": "code",
   "execution_count": 6,
   "id": "63bb944d-4d33-4db8-b506-1124068c7a5c",
   "metadata": {},
   "outputs": [],
   "source": [
    "def prepare_tensors(x, c, pr_mat, device):\n",
    "    x = torch.tensor(x).long().unsqueeze(0).to(device)\n",
    "    c = torch.tensor(c).float().unsqueeze(0).to(device)\n",
    "    pr_mat = torch.tensor(pr_mat).float().unsqueeze(0).to(device)\n",
    "    return x, c, pr_mat"
   ]
  },
  {
   "cell_type": "code",
   "execution_count": 7,
   "id": "c911342d-5b8f-43bd-8e6c-2a1ab01bf731",
   "metadata": {},
   "outputs": [],
   "source": [
    "def run_with_latents(model, x, c, pr_mat):\n",
    "    embedded_x, lengths = model.decoder.emb_x(x)\n",
    "    dist_chd = model.chd_encoder(c)\n",
    "    dist_rhy = model.rhy_encoder(pr_mat)\n",
    "    z_chd, z_txt = get_zs_from_dists([dist_chd, dist_rhy], True)\n",
    "    dec_z = torch.cat([z_chd, z_txt], dim=-1)\n",
    "    recon_pitch, recon_dur = model.decoder(dec_z, False, embedded_x, lengths, 0., 0.)\n",
    "    recon_root, recon_chroma, recon_bass = model.chd_decoder(z_chd, False, 0., c)\n",
    "    return recon_pitch, recon_dur, dist_chd, dist_rhy, recon_root, recon_chroma, recon_bass, z_chd, z_txt"
   ]
  },
  {
   "cell_type": "code",
   "execution_count": 8,
   "id": "35e04d9e-1443-44c2-b7fb-2bbf4fdf7339",
   "metadata": {},
   "outputs": [],
   "source": [
    "def compute_segment(model, x, c, pr_mat):\n",
    "    recon_pitch, recon_dur, dist_chd, dist_rhy, recon_root, recon_chroma, recon_bass, z_chd, z_txt = run_with_latents(model, x, c, pr_mat)\n",
    "    loss_values = model.loss_function(x, c, recon_pitch, recon_dur,\n",
    "                                      dist_chd, dist_rhy,\n",
    "                                      recon_root, recon_chroma, recon_bass,\n",
    "                                      beta=0.1, weights=(1, 0.5))\n",
    "    total_loss, _, _, _, kl_loss, kl_chd, kl_rhy, _, _, _, _ = loss_values\n",
    "    return z_chd.squeeze(0), z_txt.squeeze(0), kl_loss, kl_chd, kl_rhy, total_loss"
   ]
  },
  {
   "cell_type": "code",
   "execution_count": 12,
   "id": "b00931f8-adb5-40a5-9122-ffc9422bed1b",
   "metadata": {},
   "outputs": [],
   "source": [
    "def compute_losses(npz_path, output_dir=\"./losses\"):\n",
    "\n",
    "    # Garante que o diretório de saída existe\n",
    "    os.makedirs(output_dir, exist_ok=True)\n",
    "    \n",
    "    # Extrai nome base do arquivo (sem caminho, sem extensão)\n",
    "    base_name = os.path.splitext(os.path.basename(npz_path))[0]\n",
    "    \n",
    "    model = load_model(device=device)\n",
    "    dataset = wrap_dataset([npz_path], [0], shift_low=0, shift_high=0,\n",
    "                           num_bar=2, contain_chord=True)\n",
    "\n",
    "    results = []\n",
    "    \n",
    "    for idx in range(len(dataset)):\n",
    "    \n",
    "        \n",
    "        _, _, pr_mat, x, c, _ = dataset[idx]\n",
    "        x_t, c_t, pr_mat_t = prepare_tensors(x, c, pr_mat, model.device)\n",
    "        z_chd, z_txt, kl_loss, kl_chd, kl_rhy, total_loss = compute_segment(\n",
    "            model, x_t, c_t, pr_mat_t)\n",
    "\n",
    "\n",
    "\n",
    "        # Monta o nome do arquivo de saída\n",
    "        segment_name = f\"{base_name}-{idx+1:03d}\"  # Ex: 001-001\n",
    "        save_path = os.path.join(output_dir, f\"{segment_name}.npz\")\n",
    "\n",
    "        #Salva os dados em arquivo .npz\n",
    "        np.savez_compressed(save_path,\n",
    "                            z_chd=z_chd.detach().cpu().numpy(),\n",
    "                            z_txt=z_txt.detach().cpu().numpy(),\n",
    "                            kl_loss=kl_loss.item(),\n",
    "                            kl_chd=kl_chd.item(),\n",
    "                            kl_rhy=kl_rhy.item(),\n",
    "                            final_loss=total_loss.item())\n",
    "        \n",
    "        #pdb.set_trace()\n",
    "        #results.append({\n",
    "            #'segment': idx,\n",
    "         #   'name': segment_name,\n",
    "          #  'z_chd': z_chd.detach().cpu().numpy(),\n",
    "           # 'z_txt': z_txt.detach().cpu().numpy(),\n",
    "            #'kl_loss': kl_loss.item(),\n",
    "           # 'kl_chd': kl_chd.item(),\n",
    "            #'kl_rhy': kl_rhy.item(),\n",
    "            #'final_loss': total_loss.item(),\n",
    "       # })\n",
    "    #return results"
   ]
  },
  {
   "cell_type": "code",
   "execution_count": 13,
   "id": "e6235f33-d73e-45ac-aed7-883b034fe39a",
   "metadata": {},
   "outputs": [],
   "source": [
    "def main(path):\n",
    "    \"\"\"Compute per-segment losses for the given NPZ file.\n",
    "\n",
    "    Parameters\n",
    "    ----------\n",
    "    path : str\n",
    "        Path to the ``.npz`` file.\n",
    "\n",
    "    Returns\n",
    "    -------\n",
    "    list[dict]\n",
    "        A list with one entry per segment containing ``z_chd``, ``z_txt`` and\n",
    "        all loss values.\n",
    "    \"\"\"\n",
    "    results = compute_losses(path)\n",
    "    return results"
   ]
  },
  {
   "cell_type": "code",
   "execution_count": 14,
   "id": "0e759c26-8ac4-4ca8-b094-854dd13ede1b",
   "metadata": {},
   "outputs": [
    {
     "data": {
      "text/plain": [
       "'/workspace/vae-tuning-texutres'"
      ]
     },
     "execution_count": 14,
     "metadata": {},
     "output_type": "execute_result"
    }
   ],
   "source": [
    "pwd"
   ]
  },
  {
   "cell_type": "code",
   "execution_count": 15,
   "id": "6c7a66b2-492f-487b-be5a-3ac8026b3157",
   "metadata": {},
   "outputs": [
    {
     "name": "stdout",
     "output_type": "stream",
     "text": [
      "72\n"
     ]
    }
   ],
   "source": [
    "main( \"./dataSet/POP09-PIANOROLL-4-bin-quantization/001.npz\")"
   ]
  },
  {
   "cell_type": "markdown",
   "id": "8f146b97-03cd-4e27-8b2e-55949a7238cb",
   "metadata": {},
   "source": [
    "```\n",
    "if __name__ == '__main__':\n",
    "    parser = argparse.ArgumentParser(description='Compute loss for one NPZ file')\n",
    "    parser.add_argument('npz_path', help='Path to NPZ file')\n",
    "    args = parser.parse_args()\n",
    "    main(args.npz_path)\n",
    "```"
   ]
  },
  {
   "cell_type": "code",
   "execution_count": null,
   "id": "bb0f54e2-ee34-4d60-8f9e-27d24e35a642",
   "metadata": {},
   "outputs": [],
   "source": []
  }
 ],
 "metadata": {
  "kernelspec": {
   "display_name": "Python 3 (ipykernel)",
   "language": "python",
   "name": "python3"
  },
  "language_info": {
   "codemirror_mode": {
    "name": "ipython",
    "version": 3
   },
   "file_extension": ".py",
   "mimetype": "text/x-python",
   "name": "python",
   "nbconvert_exporter": "python",
   "pygments_lexer": "ipython3",
   "version": "3.11.11"
  }
 },
 "nbformat": 4,
 "nbformat_minor": 5
}
