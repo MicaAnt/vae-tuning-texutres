{
 "cells": [
  {
   "cell_type": "code",
   "execution_count": 30,
   "id": "c30e34a9-1c43-45ce-8838-39b42715ce9e",
   "metadata": {},
   "outputs": [],
   "source": [
    "import argparse\n",
    "import sys\n",
    "import torch\n",
    "import numpy as np\n",
    "import os"
   ]
  },
  {
   "cell_type": "code",
   "execution_count": 2,
   "id": "fcba8bee-b8eb-417e-8a4d-703eb5508b3e",
   "metadata": {},
   "outputs": [],
   "source": [
    "sys.path.append('./base_model')\n",
    "device = torch.device('cuda' if torch.cuda.is_available() else 'cpu')"
   ]
  },
  {
   "cell_type": "code",
   "execution_count": 3,
   "id": "bc40589d-90ec-460f-b9f3-b891be7fb71c",
   "metadata": {},
   "outputs": [],
   "source": [
    "from base_model.dataset import wrap_dataset\n",
    "from base_model.model import DisentangleVAE\n",
    "from interface import PolyDisVAE\n",
    "from amc_dl.torch_plus.train_utils import get_zs_from_dists"
   ]
  },
  {
   "cell_type": "code",
   "execution_count": 4,
   "id": "6880b595-cdeb-4579-a583-4bbf3914693d",
   "metadata": {},
   "outputs": [],
   "source": [
    "def load_model(device=device):\n",
    "    interface = PolyDisVAE.init_model(device=device)\n",
    "    interface.load_model('./model_param/polydis-v1.pt')\n",
    "    model = DisentangleVAE('disvae', interface.device,\n",
    "                           interface.chd_encoder,\n",
    "                           interface.txt_encoder,\n",
    "                           interface.pnotree_decoder,\n",
    "                           interface.chd_decoder)\n",
    "    model.eval()\n",
    "    return model"
   ]
  },
  {
   "cell_type": "code",
   "execution_count": 5,
   "id": "344c5153-bfcd-4748-bade-46816fa8f573",
   "metadata": {},
   "outputs": [
    {
     "name": "stderr",
     "output_type": "stream",
     "text": [
      "/workspace/vae-tuning-texutres/interface.py:95: FutureWarning: You are using `torch.load` with `weights_only=False` (the current default value), which uses the default pickle module implicitly. It is possible to construct malicious pickle data which will execute arbitrary code during unpickling (See https://github.com/pytorch/pytorch/blob/main/SECURITY.md#untrusted-models for more details). In a future release, the default value for `weights_only` will be flipped to `True`. This limits the functions that could be executed during unpickling. Arbitrary objects will no longer be allowed to be loaded via this mode unless they are explicitly allowlisted by the user via `torch.serialization.add_safe_globals`. We recommend you start setting `weights_only=True` for any use case where you don't have full control of the loaded file. Please open an issue on GitHub for any issues related to this experimental feature.\n",
      "  dic = torch.load(model_path, map_location=self.device)\n"
     ]
    },
    {
     "data": {
      "text/plain": [
       "DisentangleVAE(\n",
       "  (chd_encoder): ChordEncoder(\n",
       "    (gru): GRU(36, 1024, batch_first=True, bidirectional=True)\n",
       "    (linear_mu): Linear(in_features=2048, out_features=256, bias=True)\n",
       "    (linear_var): Linear(in_features=2048, out_features=256, bias=True)\n",
       "  )\n",
       "  (rhy_encoder): TextureEncoder(\n",
       "    (cnn): Sequential(\n",
       "      (0): Conv2d(1, 10, kernel_size=(4, 12), stride=(4, 1))\n",
       "      (1): ReLU()\n",
       "      (2): MaxPool2d(kernel_size=(1, 4), stride=(1, 4), padding=0, dilation=1, ceil_mode=False)\n",
       "    )\n",
       "    (fc1): Linear(in_features=290, out_features=1000, bias=True)\n",
       "    (fc2): Linear(in_features=1000, out_features=256, bias=True)\n",
       "    (gru): GRU(256, 1024, batch_first=True, bidirectional=True)\n",
       "    (linear_mu): Linear(in_features=2048, out_features=256, bias=True)\n",
       "    (linear_var): Linear(in_features=2048, out_features=256, bias=True)\n",
       "  )\n",
       "  (decoder): PianoTreeDecoder(\n",
       "    (note_embedding): Linear(in_features=135, out_features=128, bias=True)\n",
       "    (z2dec_hid_linear): Linear(in_features=512, out_features=1024, bias=True)\n",
       "    (z2dec_in_linear): Linear(in_features=512, out_features=256, bias=True)\n",
       "    (dec_notes_emb_gru): GRU(128, 128, batch_first=True, bidirectional=True)\n",
       "    (dec_time_gru): GRU(512, 1024, batch_first=True)\n",
       "    (dec_time_to_notes_hid): Linear(in_features=1024, out_features=512, bias=True)\n",
       "    (dec_notes_gru): GRU(1152, 512, batch_first=True)\n",
       "    (pitch_out_linear): Linear(in_features=512, out_features=130, bias=True)\n",
       "    (dec_dur_gru): GRU(5, 64, batch_first=True)\n",
       "    (dur_hid_linear): Linear(in_features=642, out_features=64, bias=True)\n",
       "    (dur_out_linear): Linear(in_features=64, out_features=2, bias=True)\n",
       "  )\n",
       "  (chd_decoder): ChordDecoder(\n",
       "    (z2dec_hid): Linear(in_features=256, out_features=512, bias=True)\n",
       "    (z2dec_in): Linear(in_features=256, out_features=256, bias=True)\n",
       "    (gru): GRU(292, 512, batch_first=True)\n",
       "    (root_out): Linear(in_features=512, out_features=12, bias=True)\n",
       "    (chroma_out): Linear(in_features=512, out_features=24, bias=True)\n",
       "    (bass_out): Linear(in_features=512, out_features=12, bias=True)\n",
       "  )\n",
       ")"
      ]
     },
     "execution_count": 5,
     "metadata": {},
     "output_type": "execute_result"
    }
   ],
   "source": [
    "load_model()"
   ]
  },
  {
   "cell_type": "code",
   "execution_count": 6,
   "id": "63bb944d-4d33-4db8-b506-1124068c7a5c",
   "metadata": {},
   "outputs": [],
   "source": [
    "def prepare_tensors(x, c, pr_mat, device):\n",
    "    x = torch.tensor(x).long().unsqueeze(0).to(device)\n",
    "    c = torch.tensor(c).float().unsqueeze(0).to(device)\n",
    "    pr_mat = torch.tensor(pr_mat).float().unsqueeze(0).to(device)\n",
    "    return x, c, pr_mat"
   ]
  },
  {
   "cell_type": "code",
   "execution_count": 7,
   "id": "c911342d-5b8f-43bd-8e6c-2a1ab01bf731",
   "metadata": {},
   "outputs": [],
   "source": [
    "def run_with_latents(model, x, c, pr_mat):\n",
    "    embedded_x, lengths = model.decoder.emb_x(x)\n",
    "    dist_chd = model.chd_encoder(c)\n",
    "    dist_rhy = model.rhy_encoder(pr_mat)\n",
    "    z_chd, z_txt = get_zs_from_dists([dist_chd, dist_rhy], True)\n",
    "    dec_z = torch.cat([z_chd, z_txt], dim=-1)\n",
    "    recon_pitch, recon_dur = model.decoder(dec_z, False, embedded_x, lengths, 0., 0.)\n",
    "    recon_root, recon_chroma, recon_bass = model.chd_decoder(z_chd, False, 0., c)\n",
    "    return recon_pitch, recon_dur, dist_chd, dist_rhy, recon_root, recon_chroma, recon_bass, z_chd, z_txt"
   ]
  },
  {
   "cell_type": "code",
   "execution_count": 8,
   "id": "35e04d9e-1443-44c2-b7fb-2bbf4fdf7339",
   "metadata": {},
   "outputs": [],
   "source": [
    "def compute_segment(model, x, c, pr_mat):\n",
    "    recon_pitch, recon_dur, dist_chd, dist_rhy, recon_root, recon_chroma, recon_bass, z_chd, z_txt = run_with_latents(model, x, c, pr_mat)\n",
    "    loss_values = model.loss_function(x, c, recon_pitch, recon_dur,\n",
    "                                      dist_chd, dist_rhy,\n",
    "                                      recon_root, recon_chroma, recon_bass,\n",
    "                                      beta=0.1, weights=(1, 0.5))\n",
    "    total_loss, _, _, _, kl_loss, kl_chd, kl_rhy, _, _, _, _ = loss_values\n",
    "    return z_chd.squeeze(0), z_txt.squeeze(0), kl_loss, kl_chd, kl_rhy, total_loss"
   ]
  },
  {
   "cell_type": "code",
   "execution_count": 33,
   "id": "b00931f8-adb5-40a5-9122-ffc9422bed1b",
   "metadata": {},
   "outputs": [],
   "source": [
    "def compute_losses(npz_path, output_dir=\"./losses\"):\n",
    "\n",
    "    # Garante que o diretório de saída existe\n",
    "    os.makedirs(output_dir, exist_ok=True)\n",
    "    \n",
    "    # Extrai nome base do arquivo (sem caminho, sem extensão)\n",
    "    base_name = os.path.splitext(os.path.basename(npz_path))[0]\n",
    "    \n",
    "    model = load_model(device=device)\n",
    "    dataset = wrap_dataset([npz_path], [0], shift_low=0, shift_high=0,\n",
    "                           num_bar=2, contain_chord=True)\n",
    "\n",
    "    results = []\n",
    "    print(len(dataset))\n",
    "    \n",
    "    #for idx in range(len(dataset)):\n",
    "    for idx in range(2):\n",
    "        print(idx)\n",
    "        _, _, pr_mat, x, c, _ = dataset[idx]\n",
    "        #pdb.set_trace()\n",
    "        x_t, c_t, pr_mat_t = prepare_tensors(x, c, pr_mat, model.device)\n",
    "        #pdb.set_trace()\n",
    "        z_chd, z_txt, kl_loss, kl_chd, kl_rhy, total_loss = compute_segment(\n",
    "            model, x_t, c_t, pr_mat_t)\n",
    "\n",
    "\n",
    "\n",
    "        # Monta o nome do arquivo de saída\n",
    "        segment_name = f\"{base_name}-{idx+1:03d}\"  # Ex: 001-001\n",
    "        save_path = os.path.join(output_dir, f\"{segment_name}.npz\")\n",
    "\n",
    "        #Salva os dados em arquivo .npz\n",
    "        np.savez_compressed(save_path,\n",
    "                            z_chd=z_chd.detach().cpu().numpy(),\n",
    "                            z_txt=z_txt.detach().cpu().numpy(),\n",
    "                            kl_loss=kl_loss.item(),\n",
    "                            kl_chd=kl_chd.item(),\n",
    "                            kl_rhy=kl_rhy.item(),\n",
    "                            final_loss=total_loss.item())\n",
    "        \n",
    "        #pdb.set_trace()\n",
    "        results.append({\n",
    "            #'segment': idx,\n",
    "            'name': segment_name,\n",
    "            'z_chd': z_chd.detach().cpu().numpy(),\n",
    "            'z_txt': z_txt.detach().cpu().numpy(),\n",
    "            'kl_loss': kl_loss.item(),\n",
    "            'kl_chd': kl_chd.item(),\n",
    "            'kl_rhy': kl_rhy.item(),\n",
    "            'final_loss': total_loss.item(),\n",
    "        })\n",
    "    return results"
   ]
  },
  {
   "cell_type": "code",
   "execution_count": 25,
   "id": "e6235f33-d73e-45ac-aed7-883b034fe39a",
   "metadata": {},
   "outputs": [],
   "source": [
    "def main(path):\n",
    "    \"\"\"Compute per-segment losses for the given NPZ file.\n",
    "\n",
    "    Parameters\n",
    "    ----------\n",
    "    path : str\n",
    "        Path to the ``.npz`` file.\n",
    "\n",
    "    Returns\n",
    "    -------\n",
    "    list[dict]\n",
    "        A list with one entry per segment containing ``z_chd``, ``z_txt`` and\n",
    "        all loss values.\n",
    "    \"\"\"\n",
    "    results = compute_losses(path)\n",
    "    return results"
   ]
  },
  {
   "cell_type": "code",
   "execution_count": 26,
   "id": "8d546116-4c87-44cc-856c-a0f181c57231",
   "metadata": {},
   "outputs": [
    {
     "name": "stdout",
     "output_type": "stream",
     "text": [
      "README.md                           estudandoPerdas.ipynb\n",
      "\u001b[0m\u001b[01;34m__pycache__\u001b[0m/                        estudandoPerdasPrompts.md\n",
      "\u001b[01;34mbase_model\u001b[0m/                         \u001b[01;34mfeatures\u001b[0m/\n",
      "compute_losses.ipynb                interface.py\n",
      "compute_single_loss.py              \u001b[01;34mlatent_features\u001b[0m/\n",
      "createChdTex.ipynb                  \u001b[01;34mmodel_param\u001b[0m/\n",
      "criandoFuncaoPerdas+Latentes.ipynb  process_features.ipynb\n",
      "\u001b[01;34mdataSet\u001b[0m/                            recons_umap.ipynb\n",
      "\u001b[01;34mdl_modules\u001b[0m/\n"
     ]
    }
   ],
   "source": [
    "ls"
   ]
  },
  {
   "cell_type": "code",
   "execution_count": 27,
   "id": "0e759c26-8ac4-4ca8-b094-854dd13ede1b",
   "metadata": {},
   "outputs": [
    {
     "data": {
      "text/plain": [
       "'/workspace/vae-tuning-texutres'"
      ]
     },
     "execution_count": 27,
     "metadata": {},
     "output_type": "execute_result"
    }
   ],
   "source": [
    "pwd"
   ]
  },
  {
   "cell_type": "code",
   "execution_count": 34,
   "id": "6c7a66b2-492f-487b-be5a-3ac8026b3157",
   "metadata": {},
   "outputs": [
    {
     "name": "stdout",
     "output_type": "stream",
     "text": [
      "72\n",
      "0\n",
      "1\n"
     ]
    },
    {
     "data": {
      "text/plain": [
       "[{'name': '001-001',\n",
       "  'z_chd': array([-0.09180015, -0.7897857 ,  0.01743934, -0.6252639 , -0.46450114,\n",
       "          0.5121472 ,  0.2819109 ,  1.2186936 ,  1.4293048 , -1.3361673 ,\n",
       "         -0.99713814, -0.36957756,  0.37726367, -0.6693386 , -0.22980404,\n",
       "          0.63751584,  0.23334187, -0.66623634,  0.7330239 ,  2.8159332 ,\n",
       "          0.9790726 ,  1.3418462 , -0.5215102 , -0.0215506 ,  0.9377865 ,\n",
       "          0.8532835 , -1.5399396 ,  1.3098149 ,  1.9286569 , -0.15739372,\n",
       "          0.75867605,  1.188212  , -0.9345344 ,  0.4458072 , -1.4883442 ,\n",
       "         -0.95176804, -1.2860526 ,  1.2573223 , -0.26215637,  0.1258884 ,\n",
       "         -0.33643508,  0.18153179, -1.2808107 , -1.1106294 , -0.8432679 ,\n",
       "         -0.6385666 , -1.3380221 , -0.98370284, -0.05891843,  0.9205439 ,\n",
       "          0.8369632 ,  1.1015528 ,  2.1969783 , -0.07674047, -0.5035353 ,\n",
       "          0.23939547,  0.1040934 ,  0.248754  ,  1.0337671 , -1.1495353 ,\n",
       "          0.7704102 ,  0.12992273, -0.3590638 ,  0.7551758 ,  0.11973083,\n",
       "         -0.21532679, -0.70858335, -0.11686012, -1.268482  , -0.01747656,\n",
       "          2.0593188 , -0.17961054, -0.7029159 ,  0.24979366, -0.75046426,\n",
       "          0.4743501 ,  0.5235621 , -0.48778117, -0.19061401, -0.84391356,\n",
       "         -0.27446532,  0.3696685 , -0.4693188 ,  0.29117817,  0.07042721,\n",
       "         -0.10350132,  0.10336513,  0.19210097, -1.9186572 ,  0.157213  ,\n",
       "          0.53956854,  2.1193063 ,  0.09962465, -0.19525303, -0.75079334,\n",
       "         -0.35804164, -1.4654846 ,  0.55991125,  0.9476215 ,  1.4185598 ,\n",
       "         -0.6766471 , -0.12161572, -1.0287443 ,  0.35067642, -2.2809129 ,\n",
       "          0.40792203, -0.6992685 , -0.8230026 ,  0.37910113, -0.76319474,\n",
       "         -0.99730176, -0.46824893,  0.5565577 , -3.0332494 ,  0.03407347,\n",
       "          0.36179894,  0.3867157 , -0.08568478, -0.99341255, -1.1936278 ,\n",
       "         -0.11334446,  1.3146582 , -0.64119035,  0.52012485,  0.37721676,\n",
       "          0.8779153 ,  0.2849106 , -0.37140894, -0.36688644,  0.39935485,\n",
       "          0.53033954,  1.1782486 ,  1.0971609 ,  0.25375265, -0.6492803 ,\n",
       "         -0.4053269 ,  1.5690541 ,  1.4153417 , -0.48433918, -2.6719103 ,\n",
       "          0.12060249, -0.14033195, -2.029601  , -0.82669497, -0.1760197 ,\n",
       "          0.21289237, -0.03715539,  1.0363954 ,  0.08360106, -0.7923744 ,\n",
       "         -0.09681059, -0.35792583,  1.0582572 , -0.11247355,  1.5473237 ,\n",
       "         -1.2086974 ,  1.7124056 , -0.6902848 , -0.6117186 , -0.8991961 ,\n",
       "         -1.9463936 , -0.52653074,  0.7652055 , -0.5344812 ,  0.51760435,\n",
       "         -0.76219535, -0.0611159 ,  2.1074233 , -0.6258702 , -0.22931887,\n",
       "          0.7861068 , -1.368305  , -0.22244824, -0.5542227 ,  0.48212034,\n",
       "         -0.4926981 ,  0.96528196, -0.38534632, -0.80650836, -0.10372069,\n",
       "          0.4555856 , -0.9484335 ,  1.7453988 ,  1.2379677 ,  0.9217589 ,\n",
       "         -0.2811452 , -1.1017387 ,  0.01875815, -0.503359  ,  0.5989085 ,\n",
       "          0.86584264, -2.6760747 ,  0.07550061,  1.3274024 ,  0.06702902,\n",
       "         -0.5843321 , -2.9103942 , -0.6675451 , -0.27946582, -0.7006711 ,\n",
       "          0.76183265,  0.15589733, -0.608919  ,  1.719492  , -0.6708141 ,\n",
       "          0.36122864,  0.8087282 , -1.4963121 , -0.71435976, -0.45543146,\n",
       "         -1.6901675 , -0.61269367, -0.4166813 ,  0.9189315 ,  0.20728081,\n",
       "          0.0658581 ,  0.22596304, -0.6239383 ,  1.2983922 ,  0.33054864,\n",
       "         -1.077967  , -0.703602  , -0.53643805,  0.3192553 , -0.77842134,\n",
       "          0.28306845,  0.8594073 , -0.39908564,  0.46826246,  1.2820487 ,\n",
       "          1.2030827 , -0.48849136, -0.9857488 ,  0.34358183, -0.13766912,\n",
       "          0.5793463 ,  0.4560127 ,  1.7210008 ,  0.49225   ,  0.3901174 ,\n",
       "          0.11236033,  1.6928478 , -1.1533765 , -0.12053319,  1.4578522 ,\n",
       "         -0.572672  ,  2.1333792 ,  1.4323447 , -0.467867  , -0.8340081 ,\n",
       "         -0.30346897, -0.05541252, -0.61216146, -0.48296598,  0.6118037 ,\n",
       "         -0.52225244], dtype=float32),\n",
       "  'z_txt': array([-0.9344542 ,  0.55119514,  1.048747  , -0.5441835 ,  0.9924287 ,\n",
       "         -0.48950943,  1.1972628 , -0.798349  ,  0.80155694, -1.6185489 ,\n",
       "         -1.7656167 , -1.7832681 ,  0.79966146,  1.4520497 ,  0.56228936,\n",
       "         -0.08411782, -2.0932715 ,  0.77715963, -0.4802376 ,  1.1236985 ,\n",
       "         -0.72067815,  1.5904658 ,  1.0792098 ,  0.5311066 , -1.2571684 ,\n",
       "         -0.40950018, -0.25087285, -0.34548157,  0.9592422 ,  0.6339003 ,\n",
       "         -1.6296458 ,  0.95393836, -0.13276455,  0.19632423,  0.02064532,\n",
       "         -0.78802806,  2.926777  ,  0.8393918 ,  0.71844846,  0.987     ,\n",
       "          2.12247   , -1.3701605 ,  0.5296922 , -0.34995383, -0.17763239,\n",
       "         -0.647418  ,  1.1866351 , -0.82197547, -0.38336003,  0.42209864,\n",
       "          0.36911967,  2.2262487 ,  0.01744792,  1.0062293 , -0.48790127,\n",
       "         -0.4246504 ,  1.678776  , -0.1877796 , -0.25151625, -1.2812362 ,\n",
       "          0.372967  ,  0.1208249 , -2.4667914 , -0.9619795 ,  1.3286152 ,\n",
       "          0.57056683,  1.2131865 , -0.09922984, -0.18922678,  0.34120387,\n",
       "         -0.33322534, -1.7638673 ,  1.3420175 ,  0.18197632,  1.9452472 ,\n",
       "         -0.9388584 ,  0.65714484,  0.7721203 , -0.8763309 ,  0.9561331 ,\n",
       "          1.70075   , -1.2675724 , -1.1766903 ,  0.12449075,  1.9498398 ,\n",
       "          0.9384658 ,  0.5604772 , -0.55079615,  0.09466736, -2.2133226 ,\n",
       "         -0.91083163, -1.4650438 ,  0.80082893,  1.7987468 , -1.1730855 ,\n",
       "         -0.08553008,  0.05068361, -1.4783813 ,  0.84615123,  0.07142478,\n",
       "          0.01238883, -0.74463165,  0.7014426 ,  0.9961407 ,  0.55489856,\n",
       "          0.7092338 , -0.46479046,  0.45082167, -0.8958502 , -0.05983821,\n",
       "         -2.0054946 , -0.957789  , -2.221223  , -2.2088935 ,  0.40036836,\n",
       "         -0.01571601,  1.711921  , -1.0043821 , -0.49342835,  0.31281468,\n",
       "         -0.23840818, -1.7564547 , -0.32353544, -0.09792995,  0.71501535,\n",
       "         -1.319071  ,  0.26563716, -0.03885262,  0.7717817 , -0.18032137,\n",
       "          0.46821982,  0.7668916 , -0.635499  , -1.284857  ,  0.25556588,\n",
       "         -0.38896316, -0.5389727 , -1.1753846 , -0.7924148 , -1.5592121 ,\n",
       "          0.96923107,  3.2856064 ,  1.1589158 ,  1.1314628 , -0.88370126,\n",
       "         -0.6874933 ,  0.6562974 ,  0.98143244, -0.19814926, -0.31579864,\n",
       "          0.25385568,  1.3812406 ,  0.2661401 ,  0.10049869,  0.77378774,\n",
       "          1.9742795 ,  0.62701184,  0.2777533 ,  0.64932954,  1.0626802 ,\n",
       "         -0.2203328 , -1.2163767 ,  0.12380455,  0.43275845, -2.2388568 ,\n",
       "         -0.6265906 , -0.5010976 ,  1.3143878 ,  0.75952774,  0.3628697 ,\n",
       "          0.74415433,  0.38568974,  0.7144041 , -0.20242453, -0.16593683,\n",
       "         -0.12448974, -0.41517097,  0.1534248 , -0.5839281 , -1.154073  ,\n",
       "          0.07930791,  0.14590934,  0.00988145, -1.4351585 ,  1.099246  ,\n",
       "         -1.9462936 , -0.32323033,  0.69592017,  0.90663993, -0.5803861 ,\n",
       "         -0.8449673 ,  1.3938383 ,  0.23678654, -1.1883273 , -1.2992902 ,\n",
       "         -0.38170028,  0.9235669 ,  0.1312393 , -0.49114037, -0.59708965,\n",
       "         -0.36708134, -0.6272152 ,  0.08103943, -0.65469253, -0.19409953,\n",
       "         -0.69629836, -0.40947193, -1.3456038 , -0.43760008,  0.22995752,\n",
       "         -0.9519812 ,  0.40212682, -0.7525045 , -1.0702268 ,  0.25049287,\n",
       "          1.9253864 ,  0.47363964, -0.8779081 , -0.58289254,  2.0053074 ,\n",
       "         -2.4702082 , -1.1501992 ,  0.06171212, -1.1006008 , -1.7607741 ,\n",
       "          1.9389057 , -1.2441658 , -0.6401206 , -0.34450445, -0.7504049 ,\n",
       "         -0.30709434, -0.7043185 ,  0.09715986,  0.6343978 , -0.1098928 ,\n",
       "         -0.14737362,  1.1176817 , -2.3603623 , -0.4818679 , -0.72959274,\n",
       "          1.0941918 ,  1.4312205 , -0.8908071 , -0.18508993,  1.2373531 ,\n",
       "          1.1952294 , -0.8030447 ,  1.1486952 , -0.12493475, -0.3318717 ,\n",
       "         -0.72219485,  0.2580698 ,  0.3157496 , -1.2795913 ,  0.89431906,\n",
       "         -0.32324812], dtype=float32),\n",
       "  'kl_loss': 1.2786529064178467,\n",
       "  'kl_chd': 0.3809277415275574,\n",
       "  'kl_rhy': 0.8977251648902893,\n",
       "  'final_loss': 0.416744589805603},\n",
       " {'name': '001-002',\n",
       "  'z_chd': array([ 1.55016279e+00,  1.20785129e+00,  4.10682678e-01, -1.75899625e+00,\n",
       "          1.18314445e+00, -2.18948841e-01, -1.14458025e+00, -3.89217257e-01,\n",
       "         -7.45741606e-01,  2.23724306e-01,  8.43650639e-01, -9.24366534e-01,\n",
       "          7.24791765e-01, -7.03344941e-01, -8.34261179e-01, -9.72491860e-01,\n",
       "         -1.80944777e+00, -4.07372981e-01,  2.26702005e-01, -5.55186689e-01,\n",
       "          4.17319298e-01, -2.62942731e-01,  7.35600889e-01,  1.10336924e+00,\n",
       "         -1.07497072e+00, -8.41367170e-02,  4.02982324e-01, -8.10789764e-02,\n",
       "         -1.92495584e-01, -1.08917832e+00, -1.51621652e+00, -7.40842581e-01,\n",
       "          5.84439158e-01,  2.19502762e-01,  1.21418977e+00, -1.94144225e+00,\n",
       "         -3.17980379e-01, -1.16293859e+00, -1.06051290e+00, -1.26945794e+00,\n",
       "          1.15460169e+00, -4.56014246e-01, -7.54038692e-01, -5.19644618e-01,\n",
       "         -2.29948819e-01,  5.04956961e-01,  1.45767617e+00, -8.02867174e-01,\n",
       "         -6.48353040e-01, -9.70649183e-01,  7.44678140e-01,  1.24047947e+00,\n",
       "         -3.53598654e-01,  3.55862737e-01, -7.37481475e-01, -1.00334322e+00,\n",
       "          2.03003335e+00,  4.10847038e-01, -1.66127026e-01, -1.89441609e+00,\n",
       "          1.12639189e+00, -1.10141814e-01, -4.04090047e-01,  4.48352009e-01,\n",
       "          4.15868491e-01, -1.72756386e+00, -3.69470865e-01,  2.90485024e-01,\n",
       "          4.09972280e-01,  9.18208957e-01, -1.37065721e+00, -1.53668463e+00,\n",
       "          1.16766775e+00,  7.20882058e-01, -8.83669257e-02,  4.47123386e-02,\n",
       "         -6.69790149e-01,  4.26470041e-01,  3.98276821e-02, -4.53356445e-01,\n",
       "          1.86971575e-02,  1.18079650e+00, -6.14362836e-01,  1.14703059e+00,\n",
       "          2.77725720e+00,  1.45025969e+00, -2.94923961e-01, -5.77210426e-01,\n",
       "          1.22972798e+00, -1.13288689e+00,  1.11651325e+00,  1.68470645e+00,\n",
       "          9.98492539e-02,  7.39571303e-02,  5.76511502e-01, -7.38787353e-01,\n",
       "         -1.62758839e+00, -1.64218640e+00,  8.50016057e-01,  1.85323387e-01,\n",
       "         -6.24522567e-04, -1.73479855e-01, -1.50015366e+00,  5.46185434e-01,\n",
       "         -2.20010966e-01,  1.31607151e+00, -8.23525608e-01, -4.06451106e-01,\n",
       "          5.46838582e-01,  5.07016182e-02,  1.64460862e+00, -9.03092384e-01,\n",
       "         -3.62191737e-01,  7.44898319e-01, -3.55912477e-01, -5.54362476e-01,\n",
       "          1.27282369e+00,  3.01935345e-01, -6.40383422e-01, -3.13880146e-02,\n",
       "         -1.18797171e+00,  8.18133533e-01,  2.31931388e-01,  5.17512262e-02,\n",
       "          1.11959136e+00, -3.52948979e-02,  9.81079638e-01, -1.41569227e-01,\n",
       "         -7.92801857e-01, -3.19664270e-01, -1.02338469e+00, -1.92679614e-02,\n",
       "          1.53773630e+00, -6.56960726e-01, -3.56574476e-01, -1.39650774e+00,\n",
       "         -1.86961615e+00, -7.68705428e-01, -6.81372583e-02, -8.62532854e-02,\n",
       "          4.03237551e-01, -3.86357635e-01, -8.05509746e-01,  1.05067253e+00,\n",
       "         -8.58799398e-01, -8.27205062e-01,  1.65305480e-01,  2.03782782e-01,\n",
       "          9.76112008e-01,  1.50680566e+00,  4.41101968e-01,  1.73300815e+00,\n",
       "          2.61099249e-01, -1.24273419e+00,  4.57014441e-01, -4.40257788e-03,\n",
       "         -7.82846749e-01, -1.03241909e+00,  4.15513068e-01, -5.70837557e-01,\n",
       "          1.48754522e-01,  1.33300090e+00,  1.46237314e+00, -1.07899749e+00,\n",
       "          1.02213776e+00,  1.13199568e+00,  6.41677618e-01,  2.83016652e-01,\n",
       "          4.77530956e-01, -7.90651917e-01,  3.39629054e-02, -2.05154613e-01,\n",
       "         -6.49487555e-01, -6.42240703e-01,  6.89054191e-01,  7.14304328e-01,\n",
       "         -1.98585021e+00,  9.22307611e-01, -2.51346171e-01, -9.49521124e-01,\n",
       "         -1.40588570e+00,  2.20040679e-01,  1.08975112e+00,  2.41979313e+00,\n",
       "         -2.22448722e-01,  6.50408506e-01,  4.66838777e-01,  9.30761635e-01,\n",
       "         -4.45234478e-01, -1.67037392e+00,  7.75184155e-01,  1.27858222e+00,\n",
       "         -2.78708786e-01, -1.62724090e+00,  3.03036645e-02, -2.11373270e-02,\n",
       "         -1.17344224e+00, -4.96053100e-02,  1.38617742e+00, -1.32306218e-01,\n",
       "         -3.29275906e-01, -3.47515374e-01,  1.17969501e+00, -2.81148255e-01,\n",
       "         -1.32734597e+00,  8.00975859e-02,  1.85765052e+00,  6.43249333e-01,\n",
       "          5.74026465e-01, -1.37088084e+00, -3.50054562e-01,  7.43423641e-01,\n",
       "          1.61505651e+00, -1.56875634e+00, -6.73081875e-01,  6.79738760e-01,\n",
       "         -2.14585233e+00,  1.03532636e+00, -1.51857877e+00,  5.48824906e-01,\n",
       "          9.60103691e-01, -2.09849739e+00,  6.13609910e-01, -3.91065121e-01,\n",
       "         -9.92817521e-01,  4.91914243e-01, -5.11044204e-01, -2.38258862e+00,\n",
       "         -2.46710964e-02, -2.22833419e+00,  6.99655592e-01,  2.09060699e-01,\n",
       "         -1.25215538e-02,  1.42532676e-01,  2.93008983e-01,  7.78429985e-01,\n",
       "          8.45654234e-02,  4.17096317e-01,  2.33463094e-01,  7.79409409e-01,\n",
       "         -7.86844373e-01, -1.61548400e+00,  5.47841847e-01,  2.09730196e+00,\n",
       "         -3.95539403e-01,  6.38829708e-01,  1.01595902e+00, -6.77617192e-01,\n",
       "          2.08923325e-01,  6.26303911e-01,  1.70053995e+00, -1.89107645e+00,\n",
       "          7.03907609e-01, -1.37135553e+00,  2.26769224e-01,  1.00918484e+00],\n",
       "        dtype=float32),\n",
       "  'z_txt': array([-4.22170535e-02, -1.34070009e-01,  1.86273026e+00,  1.44931227e-01,\n",
       "         -4.85047102e-01,  7.32238591e-02, -1.30321276e+00, -6.56456470e-01,\n",
       "          5.20800650e-01, -7.07821995e-02, -1.79940403e+00,  6.71765864e-01,\n",
       "         -4.78203148e-01,  4.45565224e-01,  1.37221646e+00, -6.03057861e-01,\n",
       "          4.17858928e-01,  4.67946045e-02,  2.20191643e-01, -5.47444344e-01,\n",
       "         -1.61915272e-01,  7.40944669e-02,  9.68783021e-01,  4.97491717e-01,\n",
       "          7.24481642e-02, -9.73097622e-01,  2.00417304e+00,  5.99207699e-01,\n",
       "          7.40392983e-01,  6.25538886e-01, -2.82560015e+00, -6.68562293e-01,\n",
       "         -8.94524902e-02,  1.02771091e+00,  6.53306842e-02, -4.68390048e-01,\n",
       "          2.56886148e+00, -1.46265543e+00, -5.09680569e-01, -7.72202492e-01,\n",
       "          2.02453470e+00,  5.72045743e-01,  1.16123331e+00,  4.98124331e-01,\n",
       "         -5.83967984e-01,  2.09460378e+00, -1.54823935e+00, -4.04970050e-02,\n",
       "         -4.80716228e-02,  1.54910100e+00,  6.59517944e-02, -6.13886654e-01,\n",
       "          1.74723840e+00,  1.03673041e-02,  8.11798692e-01,  1.24074435e+00,\n",
       "          2.47125596e-01,  1.04299605e-01, -7.80473888e-01, -1.75503325e+00,\n",
       "         -8.63849279e-03, -1.38292229e+00,  1.27754593e+00,  1.14961660e+00,\n",
       "          1.81141853e+00, -1.72820464e-01,  2.76431561e+00, -1.18323755e+00,\n",
       "          4.90084708e-01,  3.86257231e-01,  9.47447538e-01,  2.80061662e-01,\n",
       "         -1.74284816e-01, -5.99218249e-01, -8.77157569e-01, -3.42493415e-01,\n",
       "          2.03720093e-01, -1.10394824e+00, -2.97241271e-01, -1.16190577e+00,\n",
       "         -7.22318053e-01,  1.02492857e+00, -1.50462389e-01, -5.74941278e-01,\n",
       "          9.44255114e-01, -2.37997741e-01, -1.62134337e+00, -6.23080134e-01,\n",
       "          6.51982784e-01, -8.97040904e-01, -1.48937261e+00, -3.02032143e-01,\n",
       "         -1.74468353e-01,  6.08192205e-01, -8.67136896e-01, -1.22752011e-01,\n",
       "         -4.87565428e-01, -8.03725123e-02, -1.10961354e+00, -8.53630304e-01,\n",
       "         -9.82551754e-01,  1.45867968e+00,  1.60044253e-01,  2.87360132e-01,\n",
       "         -8.00935149e-01, -1.20793355e+00,  1.07363677e+00,  1.98458767e+00,\n",
       "         -2.14788049e-01, -1.01162386e+00,  5.24455070e-01,  1.04054756e-01,\n",
       "         -4.98100281e-01, -1.12030745e+00, -1.04581332e+00,  3.46273482e-02,\n",
       "          1.34170175e+00, -1.49530363e+00,  1.09358311e+00,  2.20651731e-01,\n",
       "         -1.87240124e+00,  1.29045367e-01, -7.92544603e-01,  1.73761833e+00,\n",
       "          5.03683798e-02,  1.99934244e+00,  1.02899897e+00,  3.61158967e-01,\n",
       "          5.14558971e-01, -4.08112779e-02, -5.94178498e-01,  7.10040689e-01,\n",
       "         -9.06665683e-01, -5.60467541e-01,  3.23393822e-01, -4.60705370e-01,\n",
       "          1.60602021e+00, -1.90017784e+00,  1.46679088e-01,  5.21300018e-01,\n",
       "         -4.00813222e-01,  9.33935285e-01,  3.29537630e-01, -1.05573642e+00,\n",
       "         -1.45772278e+00, -1.65740883e+00,  4.50901151e-01,  8.18972230e-01,\n",
       "         -2.39553046e+00, -3.39634046e-02,  6.62340045e-01,  1.17061630e-01,\n",
       "          8.97118926e-01,  1.28695667e-02, -1.66044578e-01,  7.27872550e-01,\n",
       "         -3.01716518e+00, -1.46546197e+00,  8.70693773e-02,  1.28700912e+00,\n",
       "          1.32432699e-01, -3.89847130e-01, -2.77030945e-01, -7.91378319e-02,\n",
       "         -3.30800354e-01, -5.29208660e-01,  9.77062941e-01, -1.64948833e+00,\n",
       "          1.03315508e+00,  8.74930382e-01, -1.21093047e+00,  1.95144939e+00,\n",
       "         -1.30616695e-01,  5.45243695e-02, -1.45366704e+00, -3.68067205e-01,\n",
       "         -7.59227455e-01, -7.17352033e-01, -1.03586459e+00, -1.03363442e+00,\n",
       "          4.63610888e-03, -6.98574781e-01,  2.37798184e-01,  1.95725203e-01,\n",
       "          1.07569778e+00,  7.08523750e-01,  7.51198709e-01, -3.26285005e-01,\n",
       "          1.09572375e+00, -2.69891471e-01, -3.11536372e-01,  2.22775623e-01,\n",
       "          2.57080317e-01,  1.02177775e+00, -1.43541646e+00, -3.12458128e-01,\n",
       "         -5.68830729e-01,  7.60871708e-01, -9.30652022e-01,  5.79051793e-01,\n",
       "         -3.73369455e-02,  3.02154839e-01, -2.14245647e-01,  9.43981051e-01,\n",
       "          4.86860573e-02, -4.40472364e-03, -5.91690302e-01, -5.75896025e-01,\n",
       "          1.88565683e+00,  8.69982362e-01,  6.43461764e-01,  8.37329924e-01,\n",
       "         -2.06010923e-01,  2.85332799e-01, -2.21202803e+00,  5.29438257e-04,\n",
       "          2.08102632e+00, -1.58268452e-01, -6.25800729e-01,  1.20352030e-01,\n",
       "         -5.26092410e-01,  1.12843704e+00,  1.18884206e+00,  6.18371904e-01,\n",
       "         -1.50677717e+00, -1.82483912e+00, -1.09895992e+00,  1.14034653e-01,\n",
       "          1.46960527e-01, -1.44891608e+00, -1.47473812e+00,  9.81364489e-01,\n",
       "         -1.39921165e+00, -8.32489431e-01,  5.60318112e-01, -5.36644042e-01,\n",
       "         -1.50028443e+00, -1.51686084e+00,  1.85278803e-02, -2.74989307e-02,\n",
       "          7.96792865e-01, -1.02556318e-01,  1.82192409e+00, -1.20187819e+00,\n",
       "         -5.37093818e-01,  9.25353289e-01,  4.94295418e-01, -9.92462873e-01,\n",
       "          1.06849539e+00,  5.58385015e-01,  1.59958243e-01,  8.72527182e-01,\n",
       "          2.54840398e+00, -1.65396619e+00, -2.15383738e-01, -1.25160289e+00],\n",
       "        dtype=float32),\n",
       "  'kl_loss': 1.2572134733200073,\n",
       "  'kl_chd': 0.2529076337814331,\n",
       "  'kl_rhy': 1.0043058395385742,\n",
       "  'final_loss': 0.49735140800476074}]"
      ]
     },
     "execution_count": 34,
     "metadata": {},
     "output_type": "execute_result"
    }
   ],
   "source": [
    "main( \"./dataSet/POP09-PIANOROLL-4-bin-quantization/001.npz\")"
   ]
  },
  {
   "cell_type": "markdown",
   "id": "8f146b97-03cd-4e27-8b2e-55949a7238cb",
   "metadata": {},
   "source": [
    "```\n",
    "if __name__ == '__main__':\n",
    "    parser = argparse.ArgumentParser(description='Compute loss for one NPZ file')\n",
    "    parser.add_argument('npz_path', help='Path to NPZ file')\n",
    "    args = parser.parse_args()\n",
    "    main(args.npz_path)\n",
    "```"
   ]
  },
  {
   "cell_type": "code",
   "execution_count": 14,
   "id": "1e27ab1f-6cf9-446b-a489-5db0fa5b819b",
   "metadata": {},
   "outputs": [],
   "source": [
    "import pdb"
   ]
  },
  {
   "cell_type": "code",
   "execution_count": 15,
   "id": "37e54bfd-81d6-4880-ae54-507bbf2b155a",
   "metadata": {},
   "outputs": [
    {
     "name": "stdout",
     "output_type": "stream",
     "text": [
      "--Return--\n",
      "None\n",
      "> \u001b[0;32m/tmp/ipykernel_5820/611952114.py\u001b[0m(2)\u001b[0;36m<module>\u001b[0;34m()\u001b[0m\n",
      "\u001b[0;32m      1 \u001b[0;31m\u001b[0mx\u001b[0m \u001b[0;34m=\u001b[0m \u001b[0;36m10\u001b[0m\u001b[0;34m\u001b[0m\u001b[0;34m\u001b[0m\u001b[0m\n",
      "\u001b[0m\u001b[0;32m----> 2 \u001b[0;31m\u001b[0mpdb\u001b[0m\u001b[0;34m.\u001b[0m\u001b[0mset_trace\u001b[0m\u001b[0;34m(\u001b[0m\u001b[0;34m)\u001b[0m\u001b[0;34m\u001b[0m\u001b[0;34m\u001b[0m\u001b[0m\n",
      "\u001b[0m\u001b[0;32m      3 \u001b[0;31m\u001b[0my\u001b[0m \u001b[0;34m=\u001b[0m \u001b[0mx\u001b[0m\u001b[0;34m*\u001b[0m\u001b[0;36m2\u001b[0m\u001b[0;34m\u001b[0m\u001b[0;34m\u001b[0m\u001b[0m\n",
      "\u001b[0m\u001b[0;32m      4 \u001b[0;31m\u001b[0mpdb\u001b[0m\u001b[0;34m.\u001b[0m\u001b[0mset_trace\u001b[0m\u001b[0;34m(\u001b[0m\u001b[0;34m)\u001b[0m\u001b[0;34m\u001b[0m\u001b[0;34m\u001b[0m\u001b[0m\n",
      "\u001b[0m\u001b[0;32m      5 \u001b[0;31m\u001b[0mx\u001b[0m \u001b[0;34m+\u001b[0m \u001b[0my\u001b[0m\u001b[0;34m\u001b[0m\u001b[0;34m\u001b[0m\u001b[0m\n",
      "\u001b[0m\n"
     ]
    },
    {
     "name": "stdin",
     "output_type": "stream",
     "text": [
      "ipdb>  c\n"
     ]
    },
    {
     "name": "stdout",
     "output_type": "stream",
     "text": [
      "--Return--\n",
      "None\n",
      "> \u001b[0;32m/tmp/ipykernel_5820/611952114.py\u001b[0m(4)\u001b[0;36m<module>\u001b[0;34m()\u001b[0m\n",
      "\u001b[0;32m      1 \u001b[0;31m\u001b[0mx\u001b[0m \u001b[0;34m=\u001b[0m \u001b[0;36m10\u001b[0m\u001b[0;34m\u001b[0m\u001b[0;34m\u001b[0m\u001b[0m\n",
      "\u001b[0m\u001b[0;32m      2 \u001b[0;31m\u001b[0mpdb\u001b[0m\u001b[0;34m.\u001b[0m\u001b[0mset_trace\u001b[0m\u001b[0;34m(\u001b[0m\u001b[0;34m)\u001b[0m\u001b[0;34m\u001b[0m\u001b[0;34m\u001b[0m\u001b[0m\n",
      "\u001b[0m\u001b[0;32m      3 \u001b[0;31m\u001b[0my\u001b[0m \u001b[0;34m=\u001b[0m \u001b[0mx\u001b[0m\u001b[0;34m*\u001b[0m\u001b[0;36m2\u001b[0m\u001b[0;34m\u001b[0m\u001b[0;34m\u001b[0m\u001b[0m\n",
      "\u001b[0m\u001b[0;32m----> 4 \u001b[0;31m\u001b[0mpdb\u001b[0m\u001b[0;34m.\u001b[0m\u001b[0mset_trace\u001b[0m\u001b[0;34m(\u001b[0m\u001b[0;34m)\u001b[0m\u001b[0;34m\u001b[0m\u001b[0;34m\u001b[0m\u001b[0m\n",
      "\u001b[0m\u001b[0;32m      5 \u001b[0;31m\u001b[0mx\u001b[0m \u001b[0;34m+\u001b[0m \u001b[0my\u001b[0m\u001b[0;34m\u001b[0m\u001b[0;34m\u001b[0m\u001b[0m\n",
      "\u001b[0m\n"
     ]
    },
    {
     "name": "stdin",
     "output_type": "stream",
     "text": [
      "ipdb>  c\n"
     ]
    },
    {
     "data": {
      "text/plain": [
       "30"
      ]
     },
     "execution_count": 15,
     "metadata": {},
     "output_type": "execute_result"
    }
   ],
   "source": [
    "x = 10\n",
    "pdb.set_trace()\n",
    "y = x*2\n",
    "pdb.set_trace()\n",
    "x + y"
   ]
  },
  {
   "cell_type": "code",
   "execution_count": null,
   "id": "bb0f54e2-ee34-4d60-8f9e-27d24e35a642",
   "metadata": {},
   "outputs": [],
   "source": []
  }
 ],
 "metadata": {
  "kernelspec": {
   "display_name": "Python 3 (ipykernel)",
   "language": "python",
   "name": "python3"
  },
  "language_info": {
   "codemirror_mode": {
    "name": "ipython",
    "version": 3
   },
   "file_extension": ".py",
   "mimetype": "text/x-python",
   "name": "python",
   "nbconvert_exporter": "python",
   "pygments_lexer": "ipython3",
   "version": "3.11.11"
  }
 },
 "nbformat": 4,
 "nbformat_minor": 5
}
