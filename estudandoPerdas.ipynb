{
 "cells": [
  {
   "cell_type": "code",
   "execution_count": 1,
   "id": "b66f2a63-182b-4ceb-8353-fa2d9b5b1d3b",
   "metadata": {},
   "outputs": [],
   "source": [
    "import torch\n",
    "import numpy as np"
   ]
  },
  {
   "cell_type": "code",
   "execution_count": 4,
   "id": "2c36c5b9-d415-4f9b-b5cc-fd001f14b0d4",
   "metadata": {},
   "outputs": [],
   "source": [
    "import sys\n",
    "sys.path.append('./base_model')"
   ]
  },
  {
   "cell_type": "code",
   "execution_count": 10,
   "id": "ce1d8592-e7df-4c6a-bfac-8596d5663841",
   "metadata": {},
   "outputs": [],
   "source": [
    "from base_model.dataset import wrap_dataset\n",
    "from base_model.model import DisentangleVAE\n",
    "from interface import PolyDisVAE"
   ]
  },
  {
   "cell_type": "code",
   "execution_count": 19,
   "id": "b94dd592-6636-4725-ad99-9b8c03258c42",
   "metadata": {},
   "outputs": [],
   "source": [
    "device = torch.device('cuda' if torch.cuda.is_available() else 'cpu')"
   ]
  },
  {
   "cell_type": "code",
   "execution_count": 6,
   "id": "c99d5063-5358-469e-8648-dd0761e73e54",
   "metadata": {},
   "outputs": [],
   "source": [
    "def load_sample(path):\n",
    "    dataset = wrap_dataset([path], [0], shift_low=0, shift_high=0,\n",
    "                           num_bar=2, contain_chord=True)\n",
    "    mel, prs, pr_mat, x, c, dt_x = dataset[0]\n",
    "    return x, c, pr_mat"
   ]
  },
  {
   "cell_type": "code",
   "execution_count": 7,
   "id": "ce931fda-a1d1-4490-94dc-f1a5276a91ca",
   "metadata": {},
   "outputs": [],
   "source": [
    "def prepare_tensors(x, c, pr_mat, device):\n",
    "    x = torch.tensor(x).long().unsqueeze(0).to(device)\n",
    "    c = torch.tensor(c).float().unsqueeze(0).to(device)\n",
    "    pr_mat = torch.tensor(pr_mat).float().unsqueeze(0).to(device)\n",
    "    return x, c, pr_mat"
   ]
  },
  {
   "cell_type": "code",
   "execution_count": 23,
   "id": "8133652e-6bec-4e6d-b54a-25a537f3568d",
   "metadata": {},
   "outputs": [],
   "source": [
    "def load_model(device):\n",
    "    interface = PolyDisVAE.init_model(device=device)\n",
    "    interface.load_model('./model_param/polydis-v1.pt')\n",
    "    model = DisentangleVAE('disvae', device,\n",
    "                           interface.chd_encoder,\n",
    "                           interface.txt_encoder,\n",
    "                           interface.pnotree_decoder,\n",
    "                           interface.chd_decoder)\n",
    "    model.eval()\n",
    "    return model"
   ]
  },
  {
   "cell_type": "code",
   "execution_count": 24,
   "id": "e2466608-9be4-4e19-823a-dbb9571265f2",
   "metadata": {},
   "outputs": [
    {
     "data": {
      "text/plain": [
       "DisentangleVAE(\n",
       "  (chd_encoder): ChordEncoder(\n",
       "    (gru): GRU(36, 1024, batch_first=True, bidirectional=True)\n",
       "    (linear_mu): Linear(in_features=2048, out_features=256, bias=True)\n",
       "    (linear_var): Linear(in_features=2048, out_features=256, bias=True)\n",
       "  )\n",
       "  (rhy_encoder): TextureEncoder(\n",
       "    (cnn): Sequential(\n",
       "      (0): Conv2d(1, 10, kernel_size=(4, 12), stride=(4, 1))\n",
       "      (1): ReLU()\n",
       "      (2): MaxPool2d(kernel_size=(1, 4), stride=(1, 4), padding=0, dilation=1, ceil_mode=False)\n",
       "    )\n",
       "    (fc1): Linear(in_features=290, out_features=1000, bias=True)\n",
       "    (fc2): Linear(in_features=1000, out_features=256, bias=True)\n",
       "    (gru): GRU(256, 1024, batch_first=True, bidirectional=True)\n",
       "    (linear_mu): Linear(in_features=2048, out_features=256, bias=True)\n",
       "    (linear_var): Linear(in_features=2048, out_features=256, bias=True)\n",
       "  )\n",
       "  (decoder): PianoTreeDecoder(\n",
       "    (note_embedding): Linear(in_features=135, out_features=128, bias=True)\n",
       "    (z2dec_hid_linear): Linear(in_features=512, out_features=1024, bias=True)\n",
       "    (z2dec_in_linear): Linear(in_features=512, out_features=256, bias=True)\n",
       "    (dec_notes_emb_gru): GRU(128, 128, batch_first=True, bidirectional=True)\n",
       "    (dec_time_gru): GRU(512, 1024, batch_first=True)\n",
       "    (dec_time_to_notes_hid): Linear(in_features=1024, out_features=512, bias=True)\n",
       "    (dec_notes_gru): GRU(1152, 512, batch_first=True)\n",
       "    (pitch_out_linear): Linear(in_features=512, out_features=130, bias=True)\n",
       "    (dec_dur_gru): GRU(5, 64, batch_first=True)\n",
       "    (dur_hid_linear): Linear(in_features=642, out_features=64, bias=True)\n",
       "    (dur_out_linear): Linear(in_features=64, out_features=2, bias=True)\n",
       "  )\n",
       "  (chd_decoder): ChordDecoder(\n",
       "    (z2dec_hid): Linear(in_features=256, out_features=512, bias=True)\n",
       "    (z2dec_in): Linear(in_features=256, out_features=256, bias=True)\n",
       "    (gru): GRU(292, 512, batch_first=True)\n",
       "    (root_out): Linear(in_features=512, out_features=12, bias=True)\n",
       "    (chroma_out): Linear(in_features=512, out_features=24, bias=True)\n",
       "    (bass_out): Linear(in_features=512, out_features=12, bias=True)\n",
       "  )\n",
       ")"
      ]
     },
     "execution_count": 24,
     "metadata": {},
     "output_type": "execute_result"
    }
   ],
   "source": [
    "load_model(device)"
   ]
  },
  {
   "cell_type": "code",
   "execution_count": 25,
   "id": "bcfe0309-0f60-42f8-9913-6fb8f15e4a64",
   "metadata": {},
   "outputs": [],
   "source": [
    "def calc_loss():\n",
    "    data_path = './dataSet/POP09-PIANOROLL-4-bin-quantization/001.npz'\n",
    "    model = load_model(device=device)\n",
    "    x, c, pr_mat = load_sample(data_path)\n",
    "    x, c, pr_mat = prepare_tensors(x, c, pr_mat, model.device)\n",
    "\n",
    "    loss, *_ = model.loss(x, c, pr_mat)\n",
    "    print('Loss:', loss.item())"
   ]
  },
  {
   "cell_type": "code",
   "execution_count": 26,
   "id": "52b70ad6-c1fe-4c97-b644-ffbc7f965f4f",
   "metadata": {},
   "outputs": [
    {
     "name": "stdout",
     "output_type": "stream",
     "text": [
      "Loss: 0.4220174551010132\n"
     ]
    }
   ],
   "source": [
    "calc_loss()"
   ]
  },
  {
   "cell_type": "code",
   "execution_count": 27,
   "id": "5785b757-851e-49c5-9d3e-7ef895177e11",
   "metadata": {},
   "outputs": [],
   "source": [
    "from compute_single_loss import main as compute_single "
   ]
  },
  {
   "cell_type": "code",
   "execution_count": 28,
   "id": "eaeda25d-3a03-48b4-97fe-934c575df58d",
   "metadata": {},
   "outputs": [
    {
     "name": "stdout",
     "output_type": "stream",
     "text": [
      "Loss: 0.4694575071334839\n"
     ]
    }
   ],
   "source": [
    "main()"
   ]
  },
  {
   "cell_type": "code",
   "execution_count": null,
   "id": "0caa2493-ddf2-419c-80c8-1d7e07436652",
   "metadata": {},
   "outputs": [],
   "source": []
  }
 ],
 "metadata": {
  "kernelspec": {
   "display_name": "Python 3 (ipykernel)",
   "language": "python",
   "name": "python3"
  },
  "language_info": {
   "codemirror_mode": {
    "name": "ipython",
    "version": 3
   },
   "file_extension": ".py",
   "mimetype": "text/x-python",
   "name": "python",
   "nbconvert_exporter": "python",
   "pygments_lexer": "ipython3",
   "version": "3.11.11"
  }
 },
 "nbformat": 4,
 "nbformat_minor": 5
}
